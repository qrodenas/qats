{
 "cells": [
  {
   "cell_type": "code",
   "execution_count": 1,
   "metadata": {},
   "outputs": [],
   "source": [
    "import numpy as np\n",
    "import pytket as tk\n",
    "from pytket import passes as tkp\n",
    "from pytket import circuit as tkc\n",
    "from pytket.circuit.display import render_circuit_jupyter as print_circ\n",
    "from pytket.qasm import circuit_from_qasm_str"
   ]
  },
  {
   "cell_type": "code",
   "execution_count": 3,
   "metadata": {},
   "outputs": [],
   "source": [
    "h_count = 0\n",
    "with open('adder_8.qasm', 'r') as file, open('modified_adder_8.qasm', 'w') as new_file:\n",
    "    for line in file:\n",
    "        if line.strip().startswith('h q['):\n",
    "            h_count += 1\n",
    "            new_file.write('//spotted\\n')\n",
    "        new_file.write(line)\n",
    "file.close()\n",
    "new_file.close()\n",
    "\n",
    "with open('modified_adder_8.qasm', 'r') as file, open('modified_2_adder_8.qasm', 'w') as new_file:\n",
    "    for line in file:\n",
    "        if line.strip().startswith('qreg'):\n",
    "            new_file.write(line)\n",
    "            new_file.write(f'qreg a[{h_count}];\\n')\n",
    "        else:\n",
    "            new_file.write(line)\n",
    "            "
   ]
  },
  {
   "cell_type": "code",
   "execution_count": 34,
   "metadata": {},
   "outputs": [
    {
     "name": "stdout",
     "output_type": "stream",
     "text": [
      "cx q[10], q[0];\n",
      "\n"
     ]
    }
   ],
   "source": [
    "def replace_hadamard(line_number_with_H, qubit_number, ancilla_number, file_path_read, file_path_write):\n",
    "    \"\"\"\n",
    "    Replace a Hadamard gate with a C-Phase and T gate\n",
    "    \"\"\"\n",
    "    with open(file_path_read, 'r') as file:\n",
    "        lines = file.readlines()\n",
    "\n",
    "    print(lines[line_number_with_H - 1])\n",
    "    # Replace the specific line (note: subtract 1 because list indices start at 0)\n",
    "    lines[line_number_with_H] = f'cx q[{qubit_number}], q[{ancilla_number}];\\n'\n",
    "\n",
    "    # Write everything back to the file\n",
    "    with open(file_path_write, 'w') as file:\n",
    "        file.writelines(lines)\n",
    "    \n",
    "replace_hadamard(8, 10, 0, \"adder_8.qasm\")"
   ]
  },
  {
   "cell_type": "code",
   "execution_count": null,
   "metadata": {},
   "outputs": [],
   "source": [
    "def read_qasm_file(file_path):\n",
    "    \"\"\"\n",
    "    Reads the content of a QASM file into a string\n",
    "    \"\"\"\n",
    "    with open(file_path, 'r') as file:\n",
    "        qasm_str = file.read()\n",
    "    return qasm_str\n",
    "   \n",
    "file_path = \"adder_8.qasm\"\n",
    "qasm_string = read_qasm_file(file_path) # Call function to read .qasm file and save as a string\n",
    "qc_from_qasm = circuit_from_qasm_str(qasm_string) # Turn str into circuit"
   ]
  },
  {
   "cell_type": "code",
   "execution_count": null,
   "metadata": {},
   "outputs": [],
   "source": [
    "file_path = \"modified_adder_8.qasm\"\n",
    "qasm_string = read_qasm_file(file_path) # Call function to read .qasm file and save as a string\n",
    "qc_from_qasm = circuit_from_qasm_str(qasm_string) # Turn str into circuit\n",
    "print_circ(qc_from_qasm)"
   ]
  },
  {
   "cell_type": "code",
   "execution_count": null,
   "metadata": {},
   "outputs": [],
   "source": []
  },
  {
   "cell_type": "code",
   "execution_count": null,
   "metadata": {},
   "outputs": [],
   "source": []
  },
  {
   "cell_type": "code",
   "execution_count": null,
   "metadata": {},
   "outputs": [],
   "source": []
  },
  {
   "cell_type": "code",
   "execution_count": null,
   "metadata": {},
   "outputs": [],
   "source": []
  }
 ],
 "metadata": {
  "kernelspec": {
   "display_name": "eigENVector",
   "language": "python",
   "name": "python3"
  },
  "language_info": {
   "codemirror_mode": {
    "name": "ipython",
    "version": 3
   },
   "file_extension": ".py",
   "mimetype": "text/x-python",
   "name": "python",
   "nbconvert_exporter": "python",
   "pygments_lexer": "ipython3",
   "version": "3.11.5"
  },
  "orig_nbformat": 4
 },
 "nbformat": 4,
 "nbformat_minor": 2
}
