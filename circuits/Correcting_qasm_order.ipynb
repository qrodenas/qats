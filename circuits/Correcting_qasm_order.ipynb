{
 "cells": [
  {
   "cell_type": "markdown",
   "id": "497d6fdf",
   "metadata": {},
   "source": [
    "This notebook was used to  ensure that quantum circuits are written into the Clifford+T gateset, and also ensure that the gates are consistently ordered across all <br> circuit files. Then we save the circuit as new QASM files, which we stored in the qasm_files.zip file"
   ]
  },
  {
   "cell_type": "code",
   "execution_count": 1,
   "id": "0f4b7ea2-a8d7-4af0-b3ee-a4b1a40f8478",
   "metadata": {},
   "outputs": [],
   "source": [
    "import numpy as np\n",
    "import pytket as tk\n",
    "from pytket import passes as tkp\n",
    "from pytket import circuit as tkc\n",
    "from pytket.circuit.display import render_circuit_jupyter as print_circ\n",
    "from pytket.qasm import circuit_from_qasm_str, circuit_to_qasm\n",
    "import os"
   ]
  },
  {
   "cell_type": "code",
   "execution_count": 2,
   "id": "2104be9a-9530-4cf7-90d8-d7afc445349a",
   "metadata": {},
   "outputs": [],
   "source": [
    "def read_qasm_file(file_path):\n",
    "    \"\"\"\n",
    "    Reads the content of a QASM file into a string\n",
    "    \"\"\"\n",
    "    with open(file_path, 'r') as file:\n",
    "        qasm_str = file.read()\n",
    "    return qasm_str"
   ]
  },
  {
   "cell_type": "code",
   "execution_count": 3,
   "id": "c73319ab-c159-4a17-adda-942d8d412d80",
   "metadata": {},
   "outputs": [],
   "source": [
    "def cliff_t_rebase() -> tkp.BasePass:\n",
    "    \"\"\"Pass to convert single-qubit gates to the Clifford+T gateset.\n",
    "\n",
    "    Concretely, single-qubit gates will be one of H, Z, S or T. Could also be\n",
    "    updraded to handle X and V. Have a try!\n",
    "\n",
    "    pyTKET won't do this for you automatically, because this is not a universal\n",
    "    gateset (only approximately universal).\n",
    "\n",
    "    For our purpose, if the decomposition is not exact, we raise an error\n",
    "    \"\"\"\n",
    "    cx_replacement = tk.Circuit(2).CX(0, 1)\n",
    "    def tk1_replacement(a, b, c, eps=1e-6):\n",
    "        # make sure the phases are in the range [0, 4)\n",
    "        a, b, c = a % 4, b % 4, c % 4\n",
    "        ret = tk.Circuit(1)\n",
    "        def add_phase(f: float):\n",
    "            while f > eps:\n",
    "                if f + eps > 1.:\n",
    "                    ret.Z(0)\n",
    "                    f -= 1\n",
    "                elif f + eps > 0.5:\n",
    "                    ret.S(0)\n",
    "                    f -= 0.5\n",
    "                elif f + eps > 0.25:\n",
    "                    ret.T(0)\n",
    "                    f -= 0.25\n",
    "                else:\n",
    "                    break\n",
    "            return f\n",
    "        rest_c = add_phase(c)\n",
    "        ret.H(0)\n",
    "        rest_b = add_phase(b)\n",
    "        ret.H(0)\n",
    "        rest_a = add_phase(a)\n",
    "\n",
    "        if abs(rest_a) > eps or abs(rest_b) > eps or abs(rest_c) > eps:\n",
    "            raise ValueError(\"Phases are not multiples of pi/4\")\n",
    "        return ret\n",
    "\n",
    "    return tkp.RebaseCustom(\n",
    "        {tk.OpType.CX, tk.OpType.H, tk.OpType.S, tk.OpType.T},\n",
    "        cx_replacement=cx_replacement,\n",
    "        tk1_replacement=tk1_replacement\n",
    "    )"
   ]
  },
  {
   "cell_type": "code",
   "execution_count": 4,
   "id": "0df9122b-c790-4da4-9123-e83db14d7044",
   "metadata": {},
   "outputs": [],
   "source": [
    "def qasm_ordering(qasm_file, output_file):\n",
    "    qasm_string = read_qasm_file(qasm_file) # Call function to read .qasm file and save as a string\n",
    "    qc_from_qasm = circuit_from_qasm_str(qasm_string, maxwidth=1000) # Turn str into circuit\n",
    "    cliff_opt = tkp.SequencePass([cliff_t_rebase()])\n",
    "    cliff_opt.apply(qc_from_qasm)\n",
    "    ordered_qasm_file = circuit_to_qasm(qc_from_qasm, output_file)"
   ]
  },
  {
   "cell_type": "code",
   "execution_count": 5,
   "id": "72cbc8cb-a307-47c2-a16d-172ca0a833f1",
   "metadata": {},
   "outputs": [],
   "source": [
    "for name in os.listdir():\n",
    "    if name.endswith('.qasm'):\n",
    "        original_file = name\n",
    "        print(original_file)\n",
    "        modified_file = name[:-5] + '_modified.qasm'\n",
    "        qasm_ordering(original_file, modified_file)"
   ]
  },
  {
   "cell_type": "code",
   "execution_count": 64,
   "id": "6dd5b532-9384-436e-9c94-01c4104b6885",
   "metadata": {},
   "outputs": [
    {
     "data": {
      "text/plain": [
       "'/home/jovyan/qats/qasm_files.zip'"
      ]
     },
     "execution_count": 64,
     "metadata": {},
     "output_type": "execute_result"
    }
   ],
   "source": [
    "import shutil\n",
    "\n",
    "shutil.make_archive('qasm_files', 'zip', '/home/jovyan/qats/Modified_qasm/')"
   ]
  }
 ],
 "metadata": {
  "kernelspec": {
   "display_name": "Python 3",
   "language": "python",
   "name": "python3"
  },
  "language_info": {
   "codemirror_mode": {
    "name": "ipython",
    "version": 3
   },
   "file_extension": ".py",
   "mimetype": "text/x-python",
   "name": "python",
   "nbconvert_exporter": "python",
   "pygments_lexer": "ipython3",
   "version": "3.10.5"
  }
 },
 "nbformat": 4,
 "nbformat_minor": 5
}
