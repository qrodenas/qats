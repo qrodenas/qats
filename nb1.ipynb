{
  "nbformat": 4,
  "nbformat_minor": 0,
  "metadata": {
    "colab": {
      "provenance": [],
      "toc_visible": true
    },
    "kernelspec": {
      "name": "python3",
      "display_name": "Python 3"
    },
    "language_info": {
      "name": "python"
    }
  },
  "cells": [
    {
      "cell_type": "code",
      "execution_count": 1,
      "metadata": {
        "id": "yACzSDMJqFx9"
      },
      "outputs": [],
      "source": [
        "%%capture\n",
        "!pip install pytket"
      ]
    },
    {
      "cell_type": "code",
      "source": [],
      "metadata": {
        "id": "b_SAwpcwqJc8"
      },
      "execution_count": null,
      "outputs": []
    }
  ]
}